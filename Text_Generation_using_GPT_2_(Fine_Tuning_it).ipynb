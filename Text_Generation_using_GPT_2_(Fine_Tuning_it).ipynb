{
  "nbformat": 4,
  "nbformat_minor": 0,
  "metadata": {
    "colab": {
      "provenance": [],
      "authorship_tag": "ABX9TyOVx5GHPIssdMc+O7bl99q6",
      "include_colab_link": true
    },
    "kernelspec": {
      "name": "python3",
      "display_name": "Python 3"
    },
    "language_info": {
      "name": "python"
    }
  },
  "cells": [
    {
      "cell_type": "markdown",
      "metadata": {
        "id": "view-in-github",
        "colab_type": "text"
      },
      "source": [
        "<a href=\"https://colab.research.google.com/github/preekshitsaklani/gpt2-textgen-finetune/blob/main/Text_Generation_using_GPT_2_(Fine_Tuning_it).ipynb\" target=\"_parent\"><img src=\"https://colab.research.google.com/assets/colab-badge.svg\" alt=\"Open In Colab\"/></a>"
      ]
    },
    {
      "cell_type": "markdown",
      "source": [
        "## GPT-2 Fine-tuning with Hugging Face Transformers & PyTorch\n",
        "\n",
        "## Using WikiText-2 dataset from Kaggle (downloaded via kagglehub)"
      ],
      "metadata": {
        "id": "sop07QynHqAH"
      }
    },
    {
      "cell_type": "code",
      "source": [
        "!pip install -q transformers datasets kagglehub nltk torch torchvision torchaudio\n",
        "!pip install -q numpy==1.26.4"
      ],
      "metadata": {
        "id": "1kK8kdDNV-7H"
      },
      "execution_count": null,
      "outputs": []
    },
    {
      "cell_type": "markdown",
      "source": [
        "## Libraries"
      ],
      "metadata": {
        "id": "fQut49tI363J"
      }
    },
    {
      "cell_type": "code",
      "source": [
        "import os\n",
        "os.environ[\"WANDB_DISABLED\"] = \"true\"\n",
        "\n",
        "import nltk\n",
        "import torch\n",
        "from datasets import Dataset\n",
        "from transformers import (\n",
        "    GPT2LMHeadModel,\n",
        "    GPT2Tokenizer,\n",
        "    Trainer,\n",
        "    TrainingArguments,\n",
        "    DataCollatorForLanguageModeling\n",
        ")\n",
        "import kagglehub\n",
        "import gc\n",
        "import warnings\n",
        "warnings.filterwarnings('ignore')\n",
        "\n",
        "print(f\"PyTorch version: {torch.__version__}\")\n",
        "print(f\"CUDA available: {torch.cuda.is_available()}\")\n",
        "if torch.cuda.is_available():\n",
        "    print(f\"GPU: {torch.cuda.get_device_name(0)}\")"
      ],
      "metadata": {
        "id": "e3zzc0jRV_Ma"
      },
      "execution_count": null,
      "outputs": []
    },
    {
      "cell_type": "markdown",
      "source": [
        "## Helper Function to Find File"
      ],
      "metadata": {
        "id": "be5Zp2RK4nyz"
      }
    },
    {
      "cell_type": "code",
      "source": [
        "def find_file(root, filename):\n",
        "    for dirpath, _, files in os.walk(root):\n",
        "        if filename in files:\n",
        "            return os.path.join(dirpath, filename)\n",
        "    raise FileNotFoundError(f\"{filename} not found in {root}\")"
      ],
      "metadata": {
        "id": "uue6BSOyZI7n"
      },
      "execution_count": null,
      "outputs": []
    },
    {
      "cell_type": "markdown",
      "source": [
        "## Locate Dataset Files"
      ],
      "metadata": {
        "id": "rA7PYoYS4w6y"
      }
    },
    {
      "cell_type": "code",
      "source": [
        "train_file = find_file(path, \"wiki.train.tokens\")\n",
        "test_file = find_file(path, \"wiki.test.tokens\")\n",
        "valid_file = find_file(path, \"wiki.valid.tokens\")"
      ],
      "metadata": {
        "id": "SCyVF5KmZM-i"
      },
      "execution_count": null,
      "outputs": []
    },
    {
      "cell_type": "markdown",
      "source": [
        "## Print File Paths"
      ],
      "metadata": {
        "id": "OEZpFhdz44WL"
      }
    },
    {
      "cell_type": "code",
      "source": [
        "print(f\"Train file: {train_file}\")\n",
        "print(f\"Test file: {test_file}\")\n",
        "print(f\"Valid file: {valid_file}\")"
      ],
      "metadata": {
        "id": "Q1DdzNSqZPYt"
      },
      "execution_count": null,
      "outputs": []
    },
    {
      "cell_type": "markdown",
      "source": [
        "## Download NLTK Data"
      ],
      "metadata": {
        "id": "9wbCPX4F4479"
      }
    },
    {
      "cell_type": "code",
      "source": [
        "nltk.download('punkt', quiet=True)"
      ],
      "metadata": {
        "id": "UHejxCWaZTQE"
      },
      "execution_count": null,
      "outputs": []
    },
    {
      "cell_type": "markdown",
      "source": [
        "## Load Text Data"
      ],
      "metadata": {
        "id": "XtYy-xBb45cd"
      }
    },
    {
      "cell_type": "code",
      "source": [
        "def load_text_file(filepath):\n",
        "    with open(filepath, 'r', encoding='utf-8') as f:\n",
        "        content = f.read()\n",
        "    lines = [line.strip() for line in content.split('\\n') if line.strip() and len(line.strip()) > 10]\n",
        "    return lines"
      ],
      "metadata": {
        "id": "SjlkXWToZcn3"
      },
      "execution_count": null,
      "outputs": []
    },
    {
      "cell_type": "markdown",
      "source": [
        "## Load and Process Text Files"
      ],
      "metadata": {
        "id": "4nOUGdGD46kp"
      }
    },
    {
      "cell_type": "code",
      "source": [
        "train_texts = load_text_file(train_file)\n",
        "test_texts = load_text_file(test_file)\n",
        "valid_texts = load_text_file(valid_file)\n",
        "\n",
        "print(f\"Train samples: {len(train_texts)}\")\n",
        "print(f\"Test samples: {len(test_texts)}\")\n",
        "print(f\"Valid samples: {len(valid_texts)}\")"
      ],
      "metadata": {
        "id": "xao0f1dmZfEy"
      },
      "execution_count": null,
      "outputs": []
    },
    {
      "cell_type": "markdown",
      "source": [
        "## Limit Dataset Size (for faster experimentation)"
      ],
      "metadata": {
        "id": "3YhUuajc47Nq"
      }
    },
    {
      "cell_type": "code",
      "source": [
        "train_texts = train_texts[:5000]\n",
        "valid_texts = valid_texts[:500]\n",
        "\n",
        "print(f\"Using {len(train_texts)} training samples and {len(valid_texts)} validation samples\")"
      ],
      "metadata": {
        "id": "zaYN07WBZgwk"
      },
      "execution_count": null,
      "outputs": []
    },
    {
      "cell_type": "markdown",
      "source": [
        "## Load Pre-trained GPT-2 Model and Tokenizer"
      ],
      "metadata": {
        "id": "A6MF8doJ48Xe"
      }
    },
    {
      "cell_type": "code",
      "source": [
        "model_name = \"gpt2\"\n",
        "tokenizer = GPT2Tokenizer.from_pretrained(model_name)\n",
        "model = GPT2LMHeadModel.from_pretrained(model_name)"
      ],
      "metadata": {
        "id": "MkjjdbBJZpR_"
      },
      "execution_count": null,
      "outputs": []
    },
    {
      "cell_type": "markdown",
      "source": [
        "## Set Padding Token"
      ],
      "metadata": {
        "id": "Y6nF7JFm49A3"
      }
    },
    {
      "cell_type": "code",
      "source": [
        "tokenizer.pad_token = tokenizer.eos_token"
      ],
      "metadata": {
        "id": "KaFLHsjQZrOo"
      },
      "execution_count": null,
      "outputs": []
    },
    {
      "cell_type": "markdown",
      "source": [
        "## Move Model to Device and Print Info"
      ],
      "metadata": {
        "id": "2fPYCmae49so"
      }
    },
    {
      "cell_type": "code",
      "source": [
        "device = torch.device(\"cuda\" if torch.cuda.is_available() else \"cpu\")\n",
        "model.to(device)\n",
        "\n",
        "print(f\"Model loaded on: {device}\")\n",
        "print(f\"Model parameters: {sum(p.numel() for p in model.parameters()):,}\")"
      ],
      "metadata": {
        "id": "WmH0umuIZtQU"
      },
      "execution_count": null,
      "outputs": []
    },
    {
      "cell_type": "markdown",
      "source": [
        "## Create Dataset Function"
      ],
      "metadata": {
        "id": "vmLIhhW34-g2"
      }
    },
    {
      "cell_type": "code",
      "source": [
        "def create_dataset(texts, tokenizer, max_length=128):\n",
        "    \"\"\"Create a dataset from text samples\"\"\"\n",
        "\n",
        "    def tokenize_function(examples):\n",
        "        result = tokenizer(\n",
        "            examples['text'],\n",
        "            truncation=True,\n",
        "            padding='max_length',\n",
        "            max_length=max_length,\n",
        "            return_tensors='pt'\n",
        "        )\n",
        "        result['labels'] = result['input_ids'].clone()\n",
        "        return result\n",
        "\n",
        "    dataset = Dataset.from_dict({'text': texts})\n",
        "    tokenized_dataset = dataset.map(\n",
        "        tokenize_function,\n",
        "        batched=True,\n",
        "        remove_columns=['text']\n",
        "    )\n",
        "\n",
        "    return tokenized_dataset"
      ],
      "metadata": {
        "id": "nkBHYaXJZvJ4"
      },
      "execution_count": null,
      "outputs": []
    },
    {
      "cell_type": "markdown",
      "source": [
        "## Tokenize Datasets"
      ],
      "metadata": {
        "id": "p3Ifr9Zk4_Qw"
      }
    },
    {
      "cell_type": "code",
      "source": [
        "train_dataset = create_dataset(train_texts, tokenizer)\n",
        "valid_dataset = create_dataset(valid_texts, tokenizer)\n",
        "\n",
        "print(f\"Tokenized train dataset: {len(train_dataset)}\")\n",
        "print(f\"Tokenized valid dataset: {len(valid_dataset)}\")"
      ],
      "metadata": {
        "id": "2rQWj8HBZzX6"
      },
      "execution_count": null,
      "outputs": []
    },
    {
      "cell_type": "markdown",
      "source": [
        "## Initialize Data Collator"
      ],
      "metadata": {
        "id": "g6lwpWYj4_3j"
      }
    },
    {
      "cell_type": "code",
      "source": [
        "data_collator = DataCollatorForLanguageModeling(\n",
        "    tokenizer=tokenizer,\n",
        "    mlm=False,\n",
        "    pad_to_multiple_of=8,\n",
        ")"
      ],
      "metadata": {
        "id": "is5t1AB9Z1QW"
      },
      "execution_count": null,
      "outputs": []
    },
    {
      "cell_type": "markdown",
      "source": [
        "## Define Training Arguments"
      ],
      "metadata": {
        "id": "tgvi852M5AYF"
      }
    },
    {
      "cell_type": "code",
      "source": [
        "training_args = TrainingArguments(\n",
        "    output_dir=\"./gpt2-wikitext2\",\n",
        "    overwrite_output_dir=True,\n",
        "    num_train_epochs=2,\n",
        "    per_device_train_batch_size=2,\n",
        "    per_device_eval_batch_size=2,\n",
        "    gradient_accumulation_steps=4,\n",
        "    warmup_steps=100,\n",
        "    weight_decay=0.01,\n",
        "    logging_dir=\"./logs\",\n",
        "    logging_steps=50,\n",
        "    eval_strategy=\"steps\",\n",
        "    eval_steps=200,\n",
        "    save_steps=400,\n",
        "    save_total_limit=2,\n",
        "    load_best_model_at_end=True,\n",
        "    metric_for_best_model=\"eval_loss\",\n",
        "    greater_is_better=False,\n",
        "    fp16=torch.cuda.is_available(),\n",
        "    dataloader_pin_memory=False,\n",
        "    report_to=\"none\",\n",
        ")"
      ],
      "metadata": {
        "id": "3wPZoYNzaQE0"
      },
      "execution_count": null,
      "outputs": []
    },
    {
      "cell_type": "markdown",
      "source": [
        "## Initialize Trainer"
      ],
      "metadata": {
        "id": "TMJvcoo95A7R"
      }
    },
    {
      "cell_type": "code",
      "source": [
        "trainer = Trainer(\n",
        "    model=model,\n",
        "    args=training_args,\n",
        "    train_dataset=train_dataset,\n",
        "    eval_dataset=valid_dataset,\n",
        "    data_collator=data_collator,\n",
        ")"
      ],
      "metadata": {
        "id": "p4Iz2OxJaSft"
      },
      "execution_count": null,
      "outputs": []
    },
    {
      "cell_type": "markdown",
      "source": [
        "## Start Training"
      ],
      "metadata": {
        "id": "ltC-ACYI5B6l"
      }
    },
    {
      "cell_type": "code",
      "source": [
        "print(\"Starting training...\")\n",
        "trainer.train()"
      ],
      "metadata": {
        "id": "HNBUv3HIaz3g"
      },
      "execution_count": null,
      "outputs": []
    },
    {
      "cell_type": "markdown",
      "source": [
        "## Save Fine-tuned Model and Tokenizer"
      ],
      "metadata": {
        "id": "8QRQ55rb5CaD"
      }
    },
    {
      "cell_type": "code",
      "source": [
        "print(\"Saving fine-tuned model...\")\n",
        "trainer.save_model(\"./fine-tuned-gpt2\")\n",
        "tokenizer.save_pretrained(\"./fine-tuned-gpt2\")\n",
        "print(\"Model saved successfully!\")"
      ],
      "metadata": {
        "id": "XpOue3Lia1kK"
      },
      "execution_count": null,
      "outputs": []
    },
    {
      "cell_type": "markdown",
      "source": [
        "## Text Generation and Model Loading Functions"
      ],
      "metadata": {
        "id": "dHOR7YUh5C2g"
      }
    },
    {
      "cell_type": "code",
      "source": [
        "def generate_text(prompt, model, tokenizer, max_length=100, temperature=0.8, top_p=0.9, top_k=50):\n",
        "    \"\"\"Generate text using the fine-tuned model\"\"\"\n",
        "    model.eval()\n",
        "\n",
        "    inputs = tokenizer.encode(prompt, return_tensors=\"pt\").to(model.device)\n",
        "\n",
        "    # Generating answer\n",
        "    with torch.no_grad():\n",
        "        outputs = model.generate(\n",
        "            inputs,\n",
        "            max_length=max_length,\n",
        "            do_sample=True,\n",
        "            top_k=top_k,\n",
        "            top_p=top_p,\n",
        "            temperature=temperature,\n",
        "            pad_token_id=tokenizer.eos_token_id,\n",
        "            repetition_penalty=1.1,\n",
        "            no_repeat_ngram_size=2\n",
        "        )\n",
        "\n",
        "    # Decoding\n",
        "    generated_text = tokenizer.decode(outputs[0], skip_special_tokens=True)\n",
        "    return generated_text\n",
        "\n",
        "def load_fine_tuned_model(model_path=\"./fine-tuned-gpt2\"):\n",
        "    \"\"\"Load the fine-tuned model for inference\"\"\"\n",
        "    tokenizer = GPT2Tokenizer.from_pretrained(model_path)\n",
        "    model = GPT2LMHeadModel.from_pretrained(model_path)\n",
        "    model.to(device)\n",
        "    return model, tokenizer"
      ],
      "metadata": {
        "id": "cyXt-WC7Ewwh"
      },
      "execution_count": null,
      "outputs": []
    },
    {
      "cell_type": "markdown",
      "source": [
        "## Test Text Generation"
      ],
      "metadata": {
        "id": "n0FGb2PX5D7V"
      }
    },
    {
      "cell_type": "code",
      "source": [
        "print(\"Testing text generation...\")\n",
        "\n",
        "# Testing\n",
        "test_prompts = [\n",
        "    \"Artificial Intelligence is\",\n",
        "    \"The future of technology will\",\n",
        "    \"Machine learning algorithms can\",\n",
        "    \"In the world of science,\",\n",
        "    \"The most important discovery in\"\n",
        "]\n",
        "\n",
        "# Generating answer for each prompt\n",
        "for prompt in test_prompts:\n",
        "    print(f\"\\nPrompt: '{prompt}'\")\n",
        "    print(\"=\" * 50)\n",
        "    generated = generate_text(prompt, model, tokenizer, max_length=80)\n",
        "    print(generated)\n",
        "    print(\"=\" * 50)"
      ],
      "metadata": {
        "id": "yL3AJEK_E6Mx"
      },
      "execution_count": null,
      "outputs": []
    },
    {
      "cell_type": "markdown",
      "source": [
        "## Interactive Text Generation Function"
      ],
      "metadata": {
        "id": "J1G_nurK5GN9"
      }
    },
    {
      "cell_type": "code",
      "source": [
        "def interactive_generation():\n",
        "    \"\"\"Interactive text generation with user input\"\"\"\n",
        "    print(\"Interactive Text Generation (type 'quit' to exit)\")\n",
        "    print(\"=\" * 50)\n",
        "\n",
        "    while True:\n",
        "        prompt = input(\"\\nEnter your prompt: \")\n",
        "        if prompt.lower() == 'quit':\n",
        "            break\n",
        "\n",
        "        print(f\"\\nGenerating text for: '{prompt}'\")\n",
        "        print(\"-\" * 40)\n",
        "\n",
        "        generated = generate_text(\n",
        "            prompt,\n",
        "            model,\n",
        "            tokenizer,\n",
        "            max_length=120,\n",
        "            temperature=0.7,\n",
        "            top_p=0.9,\n",
        "            top_k=40\n",
        "        )\n",
        "\n",
        "        print(generated)\n",
        "\n",
        "# Uncomment the next line to run interactive generation\n",
        "# interactive_generation()"
      ],
      "metadata": {
        "id": "8g4m7y6iE_ct"
      },
      "execution_count": null,
      "outputs": []
    },
    {
      "cell_type": "markdown",
      "source": [
        "## Evaluate Model Function"
      ],
      "metadata": {
        "id": "w3f36hQ35G6W"
      }
    },
    {
      "cell_type": "code",
      "source": [
        "def evaluate_model(model, tokenizer, test_dataset, data_collator):\n",
        "    \"\"\"Evaluate the model on test dataset\"\"\"\n",
        "    print(\"Evaluating model...\")\n",
        "\n",
        "    # Creating a trainer\n",
        "    eval_trainer = Trainer(\n",
        "        model=model,\n",
        "        eval_dataset=test_dataset,\n",
        "        data_collator=data_collator,\n",
        "    )\n",
        "\n",
        "    # Evaluating\n",
        "    eval_results = eval_trainer.evaluate()\n",
        "\n",
        "    print(f\"Evaluation results:\")\n",
        "    for key, value in eval_results.items():\n",
        "        print(f\"  {key}: {value:.4f}\")\n",
        "\n",
        "    return eval_results"
      ],
      "metadata": {
        "id": "04d8LmYmFNcb"
      },
      "execution_count": null,
      "outputs": []
    },
    {
      "cell_type": "markdown",
      "source": [
        "## Create Test Dataset"
      ],
      "metadata": {
        "id": "EaVegzMF5HeZ"
      }
    },
    {
      "cell_type": "code",
      "source": [
        "test_dataset = create_dataset(test_texts[:500], tokenizer)"
      ],
      "metadata": {
        "id": "0UGABDzBFfQ8"
      },
      "execution_count": null,
      "outputs": []
    },
    {
      "cell_type": "markdown",
      "source": [
        "## Evaluate Model"
      ],
      "metadata": {
        "id": "mSDBdHf95H8w"
      }
    },
    {
      "cell_type": "code",
      "source": [
        "evaluation_results = evaluate_model(model, tokenizer, test_dataset, data_collator)"
      ],
      "metadata": {
        "id": "hT5Zxf4BFh6j"
      },
      "execution_count": null,
      "outputs": []
    },
    {
      "cell_type": "markdown",
      "source": [
        "## Clean Up and Confirm Completion"
      ],
      "metadata": {
        "id": "n1c1_nmn5IrG"
      }
    },
    {
      "cell_type": "code",
      "source": [
        "del trainer\n",
        "torch.cuda.empty_cache()\n",
        "gc.collect()\n",
        "\n",
        "print(\"Training completed successfully!\")\n",
        "print(f\"Fine-tuned model saved to: ./fine-tuned-gpt2\")\n",
        "print(\"You can now use the model for text generation!\")"
      ],
      "metadata": {
        "id": "fDzr6EhzFl_n"
      },
      "execution_count": null,
      "outputs": []
    }
  ]
}